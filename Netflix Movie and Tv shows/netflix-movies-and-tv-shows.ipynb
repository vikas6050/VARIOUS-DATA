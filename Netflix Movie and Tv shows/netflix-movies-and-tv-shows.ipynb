{
 "cells": [
  {
   "cell_type": "markdown",
   "id": "48e1581a",
   "metadata": {
    "papermill": {
     "duration": 0.051467,
     "end_time": "2022-04-20T07:13:10.637862",
     "exception": false,
     "start_time": "2022-04-20T07:13:10.586395",
     "status": "completed"
    },
    "tags": []
   },
   "source": [
    "This dataset contains data collected from **Netflix of different TV shows and movies from the year 2008 to 2021**.\n",
    "\n",
    "* **type**: Gives information about 2 different unique values one is TV Show and another is Movie.\n",
    "* **title**: Gives information about the title of Movie or TV Show.\n",
    "* **director**: Gives information about the director who directed the Movie or TV Show\n",
    "* **cast**: Gives information about the cast who plays role in Movie or TV Show\n",
    "* **release_year**: Gives information about the year when Movie or TV Show was released\n",
    "* **rating**: Gives information about the Movie or TV Show are in which category (eg like the movies are only for students, or adults, etc)\n",
    "* **duration**: Gives information about the duration of Movie or TV Show\n",
    "* **listed_in**: Gives information about the genre of Movie or TV Show\n",
    "* **description**: Gives information about the description of Movie or TV Show"
   ]
  },
  {
   "cell_type": "code",
   "execution_count": 1,
   "id": "4653ab0e",
   "metadata": {
    "_cell_guid": "b1076dfc-b9ad-4769-8c92-a6c4dae69d19",
    "_uuid": "8f2839f25d086af736a60e9eeb907d3b93b6e0e5",
    "editable": false,
    "execution": {
     "iopub.execute_input": "2022-04-20T07:13:10.736181Z",
     "iopub.status.busy": "2022-04-20T07:13:10.735651Z",
     "iopub.status.idle": "2022-04-20T07:13:10.752525Z",
     "shell.execute_reply": "2022-04-20T07:13:10.751894Z"
    },
    "papermill": {
     "duration": 0.069364,
     "end_time": "2022-04-20T07:13:10.755079",
     "exception": false,
     "start_time": "2022-04-20T07:13:10.685715",
     "status": "completed"
    },
    "tags": []
   },
   "outputs": [
    {
     "name": "stdout",
     "output_type": "stream",
     "text": [
      "/kaggle/input/netflix-shows/netflix_titles.csv\n"
     ]
    }
   ],
   "source": [
    "# This Python 3 environment comes with many helpful analytics libraries installed\n",
    "# It is defined by the kaggle/python Docker image: https://github.com/kaggle/docker-python\n",
    "# For example, here's several helpful packages to load\n",
    "\n",
    "import numpy as np # linear algebra\n",
    "import pandas as pd # data processing, CSV file I/O (e.g. pd.read_csv)\n",
    "\n",
    "# Input data files are available in the read-only \"../input/\" directory\n",
    "# For example, running this (by clicking run or pressing Shift+Enter) will list all files under the input directory\n",
    "\n",
    "import os\n",
    "for dirname, _, filenames in os.walk('/kaggle/input'):\n",
    "    for filename in filenames:\n",
    "        print(os.path.join(dirname, filename))\n",
    "\n",
    "# You can write up to 20GB to the current directory (/kaggle/working/) that gets preserved as output when you create a version using \"Save & Run All\" \n",
    "# You can also write temporary files to /kaggle/temp/, but they won't be saved outside of the current session"
   ]
  },
  {
   "cell_type": "code",
   "execution_count": 2,
   "id": "242d051e",
   "metadata": {
    "execution": {
     "iopub.execute_input": "2022-04-20T07:13:10.856570Z",
     "iopub.status.busy": "2022-04-20T07:13:10.856129Z",
     "iopub.status.idle": "2022-04-20T07:13:11.852614Z",
     "shell.execute_reply": "2022-04-20T07:13:11.851860Z"
    },
    "papermill": {
     "duration": 1.048387,
     "end_time": "2022-04-20T07:13:11.854931",
     "exception": false,
     "start_time": "2022-04-20T07:13:10.806544",
     "status": "completed"
    },
    "tags": []
   },
   "outputs": [],
   "source": [
    "#importing important libraries\n",
    "import numpy as np\n",
    "import pandas as pd\n",
    "import matplotlib.pyplot as plt\n",
    "import seaborn as sns\n",
    "%matplotlib inline"
   ]
  },
  {
   "cell_type": "code",
   "execution_count": 3,
   "id": "b490cf2a",
   "metadata": {
    "editable": false,
    "execution": {
     "iopub.execute_input": "2022-04-20T07:13:11.954810Z",
     "iopub.status.busy": "2022-04-20T07:13:11.954509Z",
     "iopub.status.idle": "2022-04-20T07:13:12.075484Z",
     "shell.execute_reply": "2022-04-20T07:13:12.074549Z"
    },
    "papermill": {
     "duration": 0.17356,
     "end_time": "2022-04-20T07:13:12.077728",
     "exception": false,
     "start_time": "2022-04-20T07:13:11.904168",
     "status": "completed"
    },
    "tags": []
   },
   "outputs": [],
   "source": [
    "#importing the dataset\n",
    "data = pd.read_csv(\"/kaggle/input/netflix-shows/netflix_titles.csv\")"
   ]
  },
  {
   "cell_type": "code",
   "execution_count": 4,
   "id": "98e0ef94",
   "metadata": {
    "editable": false,
    "execution": {
     "iopub.execute_input": "2022-04-20T07:13:12.179816Z",
     "iopub.status.busy": "2022-04-20T07:13:12.179411Z",
     "iopub.status.idle": "2022-04-20T07:13:12.203565Z",
     "shell.execute_reply": "2022-04-20T07:13:12.202502Z"
    },
    "papermill": {
     "duration": 0.078526,
     "end_time": "2022-04-20T07:13:12.205590",
     "exception": false,
     "start_time": "2022-04-20T07:13:12.127064",
     "status": "completed"
    },
    "tags": []
   },
   "outputs": [
    {
     "data": {
      "text/html": [
       "<div>\n",
       "<style scoped>\n",
       "    .dataframe tbody tr th:only-of-type {\n",
       "        vertical-align: middle;\n",
       "    }\n",
       "\n",
       "    .dataframe tbody tr th {\n",
       "        vertical-align: top;\n",
       "    }\n",
       "\n",
       "    .dataframe thead th {\n",
       "        text-align: right;\n",
       "    }\n",
       "</style>\n",
       "<table border=\"1\" class=\"dataframe\">\n",
       "  <thead>\n",
       "    <tr style=\"text-align: right;\">\n",
       "      <th></th>\n",
       "      <th>show_id</th>\n",
       "      <th>type</th>\n",
       "      <th>title</th>\n",
       "      <th>director</th>\n",
       "      <th>cast</th>\n",
       "      <th>country</th>\n",
       "      <th>date_added</th>\n",
       "      <th>release_year</th>\n",
       "      <th>rating</th>\n",
       "      <th>duration</th>\n",
       "      <th>listed_in</th>\n",
       "      <th>description</th>\n",
       "    </tr>\n",
       "  </thead>\n",
       "  <tbody>\n",
       "    <tr>\n",
       "      <th>0</th>\n",
       "      <td>s1</td>\n",
       "      <td>Movie</td>\n",
       "      <td>Dick Johnson Is Dead</td>\n",
       "      <td>Kirsten Johnson</td>\n",
       "      <td>NaN</td>\n",
       "      <td>United States</td>\n",
       "      <td>September 25, 2021</td>\n",
       "      <td>2020</td>\n",
       "      <td>PG-13</td>\n",
       "      <td>90 min</td>\n",
       "      <td>Documentaries</td>\n",
       "      <td>As her father nears the end of his life, filmm...</td>\n",
       "    </tr>\n",
       "    <tr>\n",
       "      <th>1</th>\n",
       "      <td>s2</td>\n",
       "      <td>TV Show</td>\n",
       "      <td>Blood &amp; Water</td>\n",
       "      <td>NaN</td>\n",
       "      <td>Ama Qamata, Khosi Ngema, Gail Mabalane, Thaban...</td>\n",
       "      <td>South Africa</td>\n",
       "      <td>September 24, 2021</td>\n",
       "      <td>2021</td>\n",
       "      <td>TV-MA</td>\n",
       "      <td>2 Seasons</td>\n",
       "      <td>International TV Shows, TV Dramas, TV Mysteries</td>\n",
       "      <td>After crossing paths at a party, a Cape Town t...</td>\n",
       "    </tr>\n",
       "    <tr>\n",
       "      <th>2</th>\n",
       "      <td>s3</td>\n",
       "      <td>TV Show</td>\n",
       "      <td>Ganglands</td>\n",
       "      <td>Julien Leclercq</td>\n",
       "      <td>Sami Bouajila, Tracy Gotoas, Samuel Jouy, Nabi...</td>\n",
       "      <td>NaN</td>\n",
       "      <td>September 24, 2021</td>\n",
       "      <td>2021</td>\n",
       "      <td>TV-MA</td>\n",
       "      <td>1 Season</td>\n",
       "      <td>Crime TV Shows, International TV Shows, TV Act...</td>\n",
       "      <td>To protect his family from a powerful drug lor...</td>\n",
       "    </tr>\n",
       "    <tr>\n",
       "      <th>3</th>\n",
       "      <td>s4</td>\n",
       "      <td>TV Show</td>\n",
       "      <td>Jailbirds New Orleans</td>\n",
       "      <td>NaN</td>\n",
       "      <td>NaN</td>\n",
       "      <td>NaN</td>\n",
       "      <td>September 24, 2021</td>\n",
       "      <td>2021</td>\n",
       "      <td>TV-MA</td>\n",
       "      <td>1 Season</td>\n",
       "      <td>Docuseries, Reality TV</td>\n",
       "      <td>Feuds, flirtations and toilet talk go down amo...</td>\n",
       "    </tr>\n",
       "    <tr>\n",
       "      <th>4</th>\n",
       "      <td>s5</td>\n",
       "      <td>TV Show</td>\n",
       "      <td>Kota Factory</td>\n",
       "      <td>NaN</td>\n",
       "      <td>Mayur More, Jitendra Kumar, Ranjan Raj, Alam K...</td>\n",
       "      <td>India</td>\n",
       "      <td>September 24, 2021</td>\n",
       "      <td>2021</td>\n",
       "      <td>TV-MA</td>\n",
       "      <td>2 Seasons</td>\n",
       "      <td>International TV Shows, Romantic TV Shows, TV ...</td>\n",
       "      <td>In a city of coaching centers known to train I...</td>\n",
       "    </tr>\n",
       "  </tbody>\n",
       "</table>\n",
       "</div>"
      ],
      "text/plain": [
       "  show_id     type                  title         director  \\\n",
       "0      s1    Movie   Dick Johnson Is Dead  Kirsten Johnson   \n",
       "1      s2  TV Show          Blood & Water              NaN   \n",
       "2      s3  TV Show              Ganglands  Julien Leclercq   \n",
       "3      s4  TV Show  Jailbirds New Orleans              NaN   \n",
       "4      s5  TV Show           Kota Factory              NaN   \n",
       "\n",
       "                                                cast        country  \\\n",
       "0                                                NaN  United States   \n",
       "1  Ama Qamata, Khosi Ngema, Gail Mabalane, Thaban...   South Africa   \n",
       "2  Sami Bouajila, Tracy Gotoas, Samuel Jouy, Nabi...            NaN   \n",
       "3                                                NaN            NaN   \n",
       "4  Mayur More, Jitendra Kumar, Ranjan Raj, Alam K...          India   \n",
       "\n",
       "           date_added  release_year rating   duration  \\\n",
       "0  September 25, 2021          2020  PG-13     90 min   \n",
       "1  September 24, 2021          2021  TV-MA  2 Seasons   \n",
       "2  September 24, 2021          2021  TV-MA   1 Season   \n",
       "3  September 24, 2021          2021  TV-MA   1 Season   \n",
       "4  September 24, 2021          2021  TV-MA  2 Seasons   \n",
       "\n",
       "                                           listed_in  \\\n",
       "0                                      Documentaries   \n",
       "1    International TV Shows, TV Dramas, TV Mysteries   \n",
       "2  Crime TV Shows, International TV Shows, TV Act...   \n",
       "3                             Docuseries, Reality TV   \n",
       "4  International TV Shows, Romantic TV Shows, TV ...   \n",
       "\n",
       "                                         description  \n",
       "0  As her father nears the end of his life, filmm...  \n",
       "1  After crossing paths at a party, a Cape Town t...  \n",
       "2  To protect his family from a powerful drug lor...  \n",
       "3  Feuds, flirtations and toilet talk go down amo...  \n",
       "4  In a city of coaching centers known to train I...  "
      ]
     },
     "execution_count": 4,
     "metadata": {},
     "output_type": "execute_result"
    }
   ],
   "source": [
    "#Top 5 rows of the dataset\n",
    "data.head()"
   ]
  },
  {
   "cell_type": "code",
   "execution_count": 5,
   "id": "931c12bc",
   "metadata": {
    "editable": false,
    "execution": {
     "iopub.execute_input": "2022-04-20T07:13:12.305201Z",
     "iopub.status.busy": "2022-04-20T07:13:12.304886Z",
     "iopub.status.idle": "2022-04-20T07:13:12.309806Z",
     "shell.execute_reply": "2022-04-20T07:13:12.309221Z"
    },
    "papermill": {
     "duration": 0.057235,
     "end_time": "2022-04-20T07:13:12.311827",
     "exception": false,
     "start_time": "2022-04-20T07:13:12.254592",
     "status": "completed"
    },
    "tags": []
   },
   "outputs": [
    {
     "data": {
      "text/plain": [
       "(8807, 12)"
      ]
     },
     "execution_count": 5,
     "metadata": {},
     "output_type": "execute_result"
    }
   ],
   "source": [
    "#No. of rows and columns\n",
    "data.shape"
   ]
  },
  {
   "cell_type": "code",
   "execution_count": 6,
   "id": "d73198ab",
   "metadata": {
    "editable": false,
    "execution": {
     "iopub.execute_input": "2022-04-20T07:13:12.412184Z",
     "iopub.status.busy": "2022-04-20T07:13:12.411724Z",
     "iopub.status.idle": "2022-04-20T07:13:12.417782Z",
     "shell.execute_reply": "2022-04-20T07:13:12.416983Z"
    },
    "papermill": {
     "duration": 0.058472,
     "end_time": "2022-04-20T07:13:12.419642",
     "exception": false,
     "start_time": "2022-04-20T07:13:12.361170",
     "status": "completed"
    },
    "tags": []
   },
   "outputs": [
    {
     "data": {
      "text/plain": [
       "Index(['show_id', 'type', 'title', 'director', 'cast', 'country', 'date_added',\n",
       "       'release_year', 'rating', 'duration', 'listed_in', 'description'],\n",
       "      dtype='object')"
      ]
     },
     "execution_count": 6,
     "metadata": {},
     "output_type": "execute_result"
    }
   ],
   "source": [
    "#Show Column names\n",
    "data.columns"
   ]
  },
  {
   "cell_type": "code",
   "execution_count": 7,
   "id": "94bee977",
   "metadata": {
    "editable": false,
    "execution": {
     "iopub.execute_input": "2022-04-20T07:13:12.521235Z",
     "iopub.status.busy": "2022-04-20T07:13:12.520199Z",
     "iopub.status.idle": "2022-04-20T07:13:12.526802Z",
     "shell.execute_reply": "2022-04-20T07:13:12.526244Z"
    },
    "papermill": {
     "duration": 0.059093,
     "end_time": "2022-04-20T07:13:12.528632",
     "exception": false,
     "start_time": "2022-04-20T07:13:12.469539",
     "status": "completed"
    },
    "tags": []
   },
   "outputs": [
    {
     "data": {
      "text/plain": [
       "show_id         object\n",
       "type            object\n",
       "title           object\n",
       "director        object\n",
       "cast            object\n",
       "country         object\n",
       "date_added      object\n",
       "release_year     int64\n",
       "rating          object\n",
       "duration        object\n",
       "listed_in       object\n",
       "description     object\n",
       "dtype: object"
      ]
     },
     "execution_count": 7,
     "metadata": {},
     "output_type": "execute_result"
    }
   ],
   "source": [
    "#Datatype of  columns\n",
    "data.dtypes"
   ]
  },
  {
   "cell_type": "code",
   "execution_count": 8,
   "id": "31186120",
   "metadata": {
    "editable": false,
    "execution": {
     "iopub.execute_input": "2022-04-20T07:13:12.630764Z",
     "iopub.status.busy": "2022-04-20T07:13:12.630148Z",
     "iopub.status.idle": "2022-04-20T07:13:12.662108Z",
     "shell.execute_reply": "2022-04-20T07:13:12.661421Z"
    },
    "papermill": {
     "duration": 0.0859,
     "end_time": "2022-04-20T07:13:12.664582",
     "exception": false,
     "start_time": "2022-04-20T07:13:12.578682",
     "status": "completed"
    },
    "tags": []
   },
   "outputs": [
    {
     "name": "stdout",
     "output_type": "stream",
     "text": [
      "<class 'pandas.core.frame.DataFrame'>\n",
      "RangeIndex: 8807 entries, 0 to 8806\n",
      "Data columns (total 12 columns):\n",
      " #   Column        Non-Null Count  Dtype \n",
      "---  ------        --------------  ----- \n",
      " 0   show_id       8807 non-null   object\n",
      " 1   type          8807 non-null   object\n",
      " 2   title         8807 non-null   object\n",
      " 3   director      6173 non-null   object\n",
      " 4   cast          7982 non-null   object\n",
      " 5   country       7976 non-null   object\n",
      " 6   date_added    8797 non-null   object\n",
      " 7   release_year  8807 non-null   int64 \n",
      " 8   rating        8803 non-null   object\n",
      " 9   duration      8804 non-null   object\n",
      " 10  listed_in     8807 non-null   object\n",
      " 11  description   8807 non-null   object\n",
      "dtypes: int64(1), object(11)\n",
      "memory usage: 825.8+ KB\n"
     ]
    }
   ],
   "source": [
    "#shows indexes, column name, nonnull count, datatypes of each column and overall memory \n",
    "data.info()"
   ]
  },
  {
   "cell_type": "code",
   "execution_count": 9,
   "id": "201df570",
   "metadata": {
    "editable": false,
    "execution": {
     "iopub.execute_input": "2022-04-20T07:13:12.768077Z",
     "iopub.status.busy": "2022-04-20T07:13:12.767558Z",
     "iopub.status.idle": "2022-04-20T07:13:12.799724Z",
     "shell.execute_reply": "2022-04-20T07:13:12.799112Z"
    },
    "papermill": {
     "duration": 0.086123,
     "end_time": "2022-04-20T07:13:12.801619",
     "exception": false,
     "start_time": "2022-04-20T07:13:12.715496",
     "status": "completed"
    },
    "tags": []
   },
   "outputs": [
    {
     "data": {
      "text/html": [
       "<div>\n",
       "<style scoped>\n",
       "    .dataframe tbody tr th:only-of-type {\n",
       "        vertical-align: middle;\n",
       "    }\n",
       "\n",
       "    .dataframe tbody tr th {\n",
       "        vertical-align: top;\n",
       "    }\n",
       "\n",
       "    .dataframe thead th {\n",
       "        text-align: right;\n",
       "    }\n",
       "</style>\n",
       "<table border=\"1\" class=\"dataframe\">\n",
       "  <thead>\n",
       "    <tr style=\"text-align: right;\">\n",
       "      <th></th>\n",
       "      <th>show_id</th>\n",
       "      <th>type</th>\n",
       "      <th>title</th>\n",
       "      <th>director</th>\n",
       "      <th>cast</th>\n",
       "      <th>country</th>\n",
       "      <th>date_added</th>\n",
       "      <th>release_year</th>\n",
       "      <th>rating</th>\n",
       "      <th>duration</th>\n",
       "      <th>listed_in</th>\n",
       "      <th>description</th>\n",
       "    </tr>\n",
       "  </thead>\n",
       "  <tbody>\n",
       "  </tbody>\n",
       "</table>\n",
       "</div>"
      ],
      "text/plain": [
       "Empty DataFrame\n",
       "Columns: [show_id, type, title, director, cast, country, date_added, release_year, rating, duration, listed_in, description]\n",
       "Index: []"
      ]
     },
     "execution_count": 9,
     "metadata": {},
     "output_type": "execute_result"
    }
   ],
   "source": [
    "#checking row wise duplicate records\n",
    "data[data.duplicated()]"
   ]
  },
  {
   "cell_type": "markdown",
   "id": "f31a6fb1",
   "metadata": {
    "editable": false,
    "papermill": {
     "duration": 0.051564,
     "end_time": "2022-04-20T07:13:12.904492",
     "exception": false,
     "start_time": "2022-04-20T07:13:12.852928",
     "status": "completed"
    },
    "tags": []
   },
   "source": [
    "* There are no duplicate rows in this dataset."
   ]
  },
  {
   "cell_type": "code",
   "execution_count": 10,
   "id": "880fe657",
   "metadata": {
    "editable": false,
    "execution": {
     "iopub.execute_input": "2022-04-20T07:13:13.008697Z",
     "iopub.status.busy": "2022-04-20T07:13:13.008223Z",
     "iopub.status.idle": "2022-04-20T07:13:13.025878Z",
     "shell.execute_reply": "2022-04-20T07:13:13.025265Z"
    },
    "papermill": {
     "duration": 0.071762,
     "end_time": "2022-04-20T07:13:13.027740",
     "exception": false,
     "start_time": "2022-04-20T07:13:12.955978",
     "status": "completed"
    },
    "tags": []
   },
   "outputs": [
    {
     "data": {
      "text/plain": [
       "show_id            0\n",
       "type               0\n",
       "title              0\n",
       "director        2634\n",
       "cast             825\n",
       "country          831\n",
       "date_added        10\n",
       "release_year       0\n",
       "rating             4\n",
       "duration           3\n",
       "listed_in          0\n",
       "description        0\n",
       "dtype: int64"
      ]
     },
     "execution_count": 10,
     "metadata": {},
     "output_type": "execute_result"
    }
   ],
   "source": [
    "#Checking null values in each column\n",
    "data.isnull().sum()"
   ]
  },
  {
   "cell_type": "code",
   "execution_count": 11,
   "id": "6fd909f2",
   "metadata": {
    "editable": false,
    "execution": {
     "iopub.execute_input": "2022-04-20T07:13:13.134086Z",
     "iopub.status.busy": "2022-04-20T07:13:13.133608Z",
     "iopub.status.idle": "2022-04-20T07:13:13.152877Z",
     "shell.execute_reply": "2022-04-20T07:13:13.152302Z"
    },
    "papermill": {
     "duration": 0.07509,
     "end_time": "2022-04-20T07:13:13.154712",
     "exception": false,
     "start_time": "2022-04-20T07:13:13.079622",
     "status": "completed"
    },
    "tags": []
   },
   "outputs": [
    {
     "data": {
      "text/plain": [
       "director        29.91\n",
       "country          9.44\n",
       "cast             9.37\n",
       "date_added       0.11\n",
       "rating           0.05\n",
       "duration         0.03\n",
       "show_id          0.00\n",
       "type             0.00\n",
       "title            0.00\n",
       "release_year     0.00\n",
       "listed_in        0.00\n",
       "description      0.00\n",
       "dtype: float64"
      ]
     },
     "execution_count": 11,
     "metadata": {},
     "output_type": "execute_result"
    }
   ],
   "source": [
    "#column-wise null percentages \n",
    "round(100*(data.isnull().sum()/len(data.index)),2).sort_values(ascending=False)"
   ]
  },
  {
   "cell_type": "markdown",
   "id": "23ee9a71",
   "metadata": {
    "editable": false,
    "papermill": {
     "duration": 0.051928,
     "end_time": "2022-04-20T07:13:13.260730",
     "exception": false,
     "start_time": "2022-04-20T07:13:13.208802",
     "status": "completed"
    },
    "tags": []
   },
   "source": [
    "* Director column has ~30% missing values\n",
    "* Cast has 9.37% missing values\n",
    "* Country has  9.44% missing values"
   ]
  },
  {
   "cell_type": "code",
   "execution_count": 12,
   "id": "9010c73c",
   "metadata": {
    "editable": false,
    "execution": {
     "iopub.execute_input": "2022-04-20T07:13:13.366618Z",
     "iopub.status.busy": "2022-04-20T07:13:13.366336Z",
     "iopub.status.idle": "2022-04-20T07:13:14.106010Z",
     "shell.execute_reply": "2022-04-20T07:13:14.105100Z"
    },
    "papermill": {
     "duration": 0.79535,
     "end_time": "2022-04-20T07:13:14.108199",
     "exception": false,
     "start_time": "2022-04-20T07:13:13.312849",
     "status": "completed"
    },
    "tags": []
   },
   "outputs": [
    {
     "data": {
      "text/plain": [
       "<seaborn.axisgrid.FacetGrid at 0x7f3a4c58fb90>"
      ]
     },
     "execution_count": 12,
     "metadata": {},
     "output_type": "execute_result"
    },
    {
     "data": {
      "text/plain": [
       "<Figure size 720x432 with 0 Axes>"
      ]
     },
     "metadata": {},
     "output_type": "display_data"
    },
    {
     "data": {
      "image/png": "[encoded data removed]",
      "text/plain": [
       "<Figure size 511.25x360 with 1 Axes>"
      ]
     },
     "metadata": {
      "needs_background": "light"
     },
     "output_type": "display_data"
    }
   ],
   "source": [
    "#Visualizing missing values\n",
    "plt.figure(figsize=(10,6))\n",
    "sns.displot(\n",
    "    data=data.isna().melt(value_name=\"missing\"),\n",
    "    y=\"variable\",\n",
    "    hue=\"missing\",\n",
    "    multiple=\"fill\",\n",
    "    aspect=1.25)"
   ]
  },
  {
   "cell_type": "markdown",
   "id": "b53fe5c8",
   "metadata": {
    "editable": false,
    "papermill": {
     "duration": 0.054742,
     "end_time": "2022-04-20T07:13:14.216417",
     "exception": false,
     "start_time": "2022-04-20T07:13:14.161675",
     "status": "completed"
    },
    "tags": []
   },
   "source": [
    "* For missing values in country we will replace with the most common country(mode)\n",
    "* For cast and director will just add \"No data\""
   ]
  },
  {
   "cell_type": "code",
   "execution_count": 13,
   "id": "4922caef",
   "metadata": {
    "editable": false,
    "execution": {
     "iopub.execute_input": "2022-04-20T07:13:14.326162Z",
     "iopub.status.busy": "2022-04-20T07:13:14.325229Z",
     "iopub.status.idle": "2022-04-20T07:13:14.350121Z",
     "shell.execute_reply": "2022-04-20T07:13:14.349468Z"
    },
    "papermill": {
     "duration": 0.08153,
     "end_time": "2022-04-20T07:13:14.352140",
     "exception": false,
     "start_time": "2022-04-20T07:13:14.270610",
     "status": "completed"
    },
    "tags": []
   },
   "outputs": [],
   "source": [
    "data['country'] = data['country'].fillna(data['country'].mode()[0])\n",
    "data['cast'].replace(np.nan, 'No Data',inplace  = True)\n",
    "data['director'].replace(np.nan, 'No Data',inplace  = True)\n",
    "data.dropna(inplace=True)\n",
    "\n"
   ]
  },
  {
   "cell_type": "code",
   "execution_count": 14,
   "id": "86ed678a",
   "metadata": {
    "editable": false,
    "execution": {
     "iopub.execute_input": "2022-04-20T07:13:14.461048Z",
     "iopub.status.busy": "2022-04-20T07:13:14.460547Z",
     "iopub.status.idle": "2022-04-20T07:13:14.671920Z",
     "shell.execute_reply": "2022-04-20T07:13:14.671083Z"
    },
    "papermill": {
     "duration": 0.268361,
     "end_time": "2022-04-20T07:13:14.674234",
     "exception": false,
     "start_time": "2022-04-20T07:13:14.405873",
     "status": "completed"
    },
    "tags": []
   },
   "outputs": [],
   "source": [
    "#adding a new date column as per date_added\n",
    "data['date_added'] = pd.to_datetime(data['date_added'])\n",
    "\n",
    "data['month_added']=data['date_added'].dt.month\n",
    "data['month_name_added']=data['date_added'].dt.month_name()\n",
    "data['year_added'] = data['date_added'].dt.year\n"
   ]
  },
  {
   "cell_type": "code",
   "execution_count": 15,
   "id": "41043377",
   "metadata": {
    "editable": false,
    "execution": {
     "iopub.execute_input": "2022-04-20T07:13:14.784051Z",
     "iopub.status.busy": "2022-04-20T07:13:14.783765Z",
     "iopub.status.idle": "2022-04-20T07:13:14.801940Z",
     "shell.execute_reply": "2022-04-20T07:13:14.801096Z"
    },
    "papermill": {
     "duration": 0.075768,
     "end_time": "2022-04-20T07:13:14.803834",
     "exception": false,
     "start_time": "2022-04-20T07:13:14.728066",
     "status": "completed"
    },
    "tags": []
   },
   "outputs": [
    {
     "data": {
      "text/html": [
       "<div>\n",
       "<style scoped>\n",
       "    .dataframe tbody tr th:only-of-type {\n",
       "        vertical-align: middle;\n",
       "    }\n",
       "\n",
       "    .dataframe tbody tr th {\n",
       "        vertical-align: top;\n",
       "    }\n",
       "\n",
       "    .dataframe thead th {\n",
       "        text-align: right;\n",
       "    }\n",
       "</style>\n",
       "<table border=\"1\" class=\"dataframe\">\n",
       "  <thead>\n",
       "    <tr style=\"text-align: right;\">\n",
       "      <th></th>\n",
       "      <th>show_id</th>\n",
       "      <th>type</th>\n",
       "      <th>title</th>\n",
       "      <th>director</th>\n",
       "      <th>cast</th>\n",
       "      <th>country</th>\n",
       "      <th>date_added</th>\n",
       "      <th>release_year</th>\n",
       "      <th>rating</th>\n",
       "      <th>duration</th>\n",
       "      <th>listed_in</th>\n",
       "      <th>description</th>\n",
       "      <th>month_added</th>\n",
       "      <th>month_name_added</th>\n",
       "      <th>year_added</th>\n",
       "    </tr>\n",
       "  </thead>\n",
       "  <tbody>\n",
       "    <tr>\n",
       "      <th>0</th>\n",
       "      <td>s1</td>\n",
       "      <td>Movie</td>\n",
       "      <td>Dick Johnson Is Dead</td>\n",
       "      <td>Kirsten Johnson</td>\n",
       "      <td>No Data</td>\n",
       "      <td>United States</td>\n",
       "      <td>2021-09-25</td>\n",
       "      <td>2020</td>\n",
       "      <td>PG-13</td>\n",
       "      <td>90 min</td>\n",
       "      <td>Documentaries</td>\n",
       "      <td>As her father nears the end of his life, filmm...</td>\n",
       "      <td>9</td>\n",
       "      <td>September</td>\n",
       "      <td>2021</td>\n",
       "    </tr>\n",
       "    <tr>\n",
       "      <th>1</th>\n",
       "      <td>s2</td>\n",
       "      <td>TV Show</td>\n",
       "      <td>Blood &amp; Water</td>\n",
       "      <td>No Data</td>\n",
       "      <td>Ama Qamata, Khosi Ngema, Gail Mabalane, Thaban...</td>\n",
       "      <td>South Africa</td>\n",
       "      <td>2021-09-24</td>\n",
       "      <td>2021</td>\n",
       "      <td>TV-MA</td>\n",
       "      <td>2 Seasons</td>\n",
       "      <td>International TV Shows, TV Dramas, TV Mysteries</td>\n",
       "      <td>After crossing paths at a party, a Cape Town t...</td>\n",
       "      <td>9</td>\n",
       "      <td>September</td>\n",
       "      <td>2021</td>\n",
       "    </tr>\n",
       "    <tr>\n",
       "      <th>2</th>\n",
       "      <td>s3</td>\n",
       "      <td>TV Show</td>\n",
       "      <td>Ganglands</td>\n",
       "      <td>Julien Leclercq</td>\n",
       "      <td>Sami Bouajila, Tracy Gotoas, Samuel Jouy, Nabi...</td>\n",
       "      <td>United States</td>\n",
       "      <td>2021-09-24</td>\n",
       "      <td>2021</td>\n",
       "      <td>TV-MA</td>\n",
       "      <td>1 Season</td>\n",
       "      <td>Crime TV Shows, International TV Shows, TV Act...</td>\n",
       "      <td>To protect his family from a powerful drug lor...</td>\n",
       "      <td>9</td>\n",
       "      <td>September</td>\n",
       "      <td>2021</td>\n",
       "    </tr>\n",
       "    <tr>\n",
       "      <th>3</th>\n",
       "      <td>s4</td>\n",
       "      <td>TV Show</td>\n",
       "      <td>Jailbirds New Orleans</td>\n",
       "      <td>No Data</td>\n",
       "      <td>No Data</td>\n",
       "      <td>United States</td>\n",
       "      <td>2021-09-24</td>\n",
       "      <td>2021</td>\n",
       "      <td>TV-MA</td>\n",
       "      <td>1 Season</td>\n",
       "      <td>Docuseries, Reality TV</td>\n",
       "      <td>Feuds, flirtations and toilet talk go down amo...</td>\n",
       "      <td>9</td>\n",
       "      <td>September</td>\n",
       "      <td>2021</td>\n",
       "    </tr>\n",
       "    <tr>\n",
       "      <th>4</th>\n",
       "      <td>s5</td>\n",
       "      <td>TV Show</td>\n",
       "      <td>Kota Factory</td>\n",
       "      <td>No Data</td>\n",
       "      <td>Mayur More, Jitendra Kumar, Ranjan Raj, Alam K...</td>\n",
       "      <td>India</td>\n",
       "      <td>2021-09-24</td>\n",
       "      <td>2021</td>\n",
       "      <td>TV-MA</td>\n",
       "      <td>2 Seasons</td>\n",
       "      <td>International TV Shows, Romantic TV Shows, TV ...</td>\n",
       "      <td>In a city of coaching centers known to train I...</td>\n",
       "      <td>9</td>\n",
       "      <td>September</td>\n",
       "      <td>2021</td>\n",
       "    </tr>\n",
       "  </tbody>\n",
       "</table>\n",
       "</div>"
      ],
      "text/plain": [
       "  show_id     type                  title         director  \\\n",
       "0      s1    Movie   Dick Johnson Is Dead  Kirsten Johnson   \n",
       "1      s2  TV Show          Blood & Water          No Data   \n",
       "2      s3  TV Show              Ganglands  Julien Leclercq   \n",
       "3      s4  TV Show  Jailbirds New Orleans          No Data   \n",
       "4      s5  TV Show           Kota Factory          No Data   \n",
       "\n",
       "                                                cast        country  \\\n",
       "0                                            No Data  United States   \n",
       "1  Ama Qamata, Khosi Ngema, Gail Mabalane, Thaban...   South Africa   \n",
       "2  Sami Bouajila, Tracy Gotoas, Samuel Jouy, Nabi...  United States   \n",
       "3                                            No Data  United States   \n",
       "4  Mayur More, Jitendra Kumar, Ranjan Raj, Alam K...          India   \n",
       "\n",
       "  date_added  release_year rating   duration  \\\n",
       "0 2021-09-25          2020  PG-13     90 min   \n",
       "1 2021-09-24          2021  TV-MA  2 Seasons   \n",
       "2 2021-09-24          2021  TV-MA   1 Season   \n",
       "3 2021-09-24          2021  TV-MA   1 Season   \n",
       "4 2021-09-24          2021  TV-MA  2 Seasons   \n",
       "\n",
       "                                           listed_in  \\\n",
       "0                                      Documentaries   \n",
       "1    International TV Shows, TV Dramas, TV Mysteries   \n",
       "2  Crime TV Shows, International TV Shows, TV Act...   \n",
       "3                             Docuseries, Reality TV   \n",
       "4  International TV Shows, Romantic TV Shows, TV ...   \n",
       "\n",
       "                                         description  month_added  \\\n",
       "0  As her father nears the end of his life, filmm...            9   \n",
       "1  After crossing paths at a party, a Cape Town t...            9   \n",
       "2  To protect his family from a powerful drug lor...            9   \n",
       "3  Feuds, flirtations and toilet talk go down amo...            9   \n",
       "4  In a city of coaching centers known to train I...            9   \n",
       "\n",
       "  month_name_added  year_added  \n",
       "0        September        2021  \n",
       "1        September        2021  \n",
       "2        September        2021  \n",
       "3        September        2021  \n",
       "4        September        2021  "
      ]
     },
     "execution_count": 15,
     "metadata": {},
     "output_type": "execute_result"
    }
   ],
   "source": [
    "data.head()"
   ]
  },
  {
   "cell_type": "code",
   "execution_count": 16,
   "id": "de87baf2",
   "metadata": {
    "editable": false,
    "execution": {
     "iopub.execute_input": "2022-04-20T07:13:14.913683Z",
     "iopub.status.busy": "2022-04-20T07:13:14.913378Z",
     "iopub.status.idle": "2022-04-20T07:13:14.920855Z",
     "shell.execute_reply": "2022-04-20T07:13:14.920040Z"
    },
    "papermill": {
     "duration": 0.065011,
     "end_time": "2022-04-20T07:13:14.922886",
     "exception": false,
     "start_time": "2022-04-20T07:13:14.857875",
     "status": "completed"
    },
    "tags": []
   },
   "outputs": [
    {
     "data": {
      "text/plain": [
       "show_id                     object\n",
       "type                        object\n",
       "title                       object\n",
       "director                    object\n",
       "cast                        object\n",
       "country                     object\n",
       "date_added          datetime64[ns]\n",
       "release_year                 int64\n",
       "rating                      object\n",
       "duration                    object\n",
       "listed_in                   object\n",
       "description                 object\n",
       "month_added                  int64\n",
       "month_name_added            object\n",
       "year_added                   int64\n",
       "dtype: object"
      ]
     },
     "execution_count": 16,
     "metadata": {},
     "output_type": "execute_result"
    }
   ],
   "source": [
    "data.dtypes"
   ]
  },
  {
   "cell_type": "code",
   "execution_count": 17,
   "id": "72cb68ed",
   "metadata": {
    "editable": false,
    "execution": {
     "iopub.execute_input": "2022-04-20T07:13:15.035522Z",
     "iopub.status.busy": "2022-04-20T07:13:15.035239Z",
     "iopub.status.idle": "2022-04-20T07:13:15.042724Z",
     "shell.execute_reply": "2022-04-20T07:13:15.041868Z"
    },
    "papermill": {
     "duration": 0.066276,
     "end_time": "2022-04-20T07:13:15.044705",
     "exception": false,
     "start_time": "2022-04-20T07:13:14.978429",
     "status": "completed"
    },
    "tags": []
   },
   "outputs": [
    {
     "data": {
      "text/plain": [
       "2019    2016\n",
       "2020    1879\n",
       "2018    1648\n",
       "2021    1498\n",
       "2017    1185\n",
       "2016     426\n",
       "2015      82\n",
       "2014      24\n",
       "2011      13\n",
       "2013      11\n",
       "2012       3\n",
       "2009       2\n",
       "2008       2\n",
       "2010       1\n",
       "Name: year_added, dtype: int64"
      ]
     },
     "execution_count": 17,
     "metadata": {},
     "output_type": "execute_result"
    }
   ],
   "source": [
    "#year in which maximum no. of TV shows and movies were added on netflix\n",
    "data['year_added'].value_counts()"
   ]
  },
  {
   "cell_type": "code",
   "execution_count": 18,
   "id": "265407f8",
   "metadata": {
    "editable": false,
    "execution": {
     "iopub.execute_input": "2022-04-20T07:13:15.156492Z",
     "iopub.status.busy": "2022-04-20T07:13:15.156200Z",
     "iopub.status.idle": "2022-04-20T07:13:15.390921Z",
     "shell.execute_reply": "2022-04-20T07:13:15.390092Z"
    },
    "papermill": {
     "duration": 0.293317,
     "end_time": "2022-04-20T07:13:15.393144",
     "exception": false,
     "start_time": "2022-04-20T07:13:15.099827",
     "status": "completed"
    },
    "tags": []
   },
   "outputs": [
    {
     "data": {
      "image/png": "[encoded data removed]",
      "text/plain": [
       "<Figure size 720x576 with 1 Axes>"
      ]
     },
     "metadata": {
      "needs_background": "light"
     },
     "output_type": "display_data"
    }
   ],
   "source": [
    "#Top 10 years when maximum movies n TV shows were added\n",
    "plt.figure(figsize=(10,8))\n",
    "plt.title('Top 10 Years')\n",
    "sns.countplot(x='year_added',data=data,order=data['year_added'].value_counts().index[:10],facecolor=(0, 0, 0, 0),linewidth=5, edgecolor=sns.color_palette(\"flare\"))\n",
    "plt.show()"
   ]
  },
  {
   "cell_type": "code",
   "execution_count": 19,
   "id": "c7354987",
   "metadata": {
    "editable": false,
    "execution": {
     "iopub.execute_input": "2022-04-20T07:13:15.507700Z",
     "iopub.status.busy": "2022-04-20T07:13:15.506882Z",
     "iopub.status.idle": "2022-04-20T07:13:15.516740Z",
     "shell.execute_reply": "2022-04-20T07:13:15.515926Z"
    },
    "papermill": {
     "duration": 0.069364,
     "end_time": "2022-04-20T07:13:15.518580",
     "exception": false,
     "start_time": "2022-04-20T07:13:15.449216",
     "status": "completed"
    },
    "tags": []
   },
   "outputs": [
    {
     "data": {
      "text/plain": [
       "type\n",
       "Movie      6126\n",
       "TV Show    2664\n",
       "Name: type, dtype: int64"
      ]
     },
     "execution_count": 19,
     "metadata": {},
     "output_type": "execute_result"
    }
   ],
   "source": [
    "#Unique content type\n",
    "data.groupby('type').type.count()"
   ]
  },
  {
   "cell_type": "code",
   "execution_count": 20,
   "id": "a2cfb13c",
   "metadata": {
    "editable": false,
    "execution": {
     "iopub.execute_input": "2022-04-20T07:13:15.633360Z",
     "iopub.status.busy": "2022-04-20T07:13:15.633066Z",
     "iopub.status.idle": "2022-04-20T07:13:15.791921Z",
     "shell.execute_reply": "2022-04-20T07:13:15.791288Z"
    },
    "papermill": {
     "duration": 0.218732,
     "end_time": "2022-04-20T07:13:15.793879",
     "exception": false,
     "start_time": "2022-04-20T07:13:15.575147",
     "status": "completed"
    },
    "tags": []
   },
   "outputs": [
    {
     "data": {
      "image/png": "[encoded data removed]",
      "text/plain": [
       "<Figure size 432x288 with 1 Axes>"
      ]
     },
     "metadata": {
      "needs_background": "light"
     },
     "output_type": "display_data"
    }
   ],
   "source": [
    "sns.countplot(x='type', data=data)\n",
    "plt.show()"
   ]
  },
  {
   "cell_type": "code",
   "execution_count": 21,
   "id": "906f4bbd",
   "metadata": {
    "editable": false,
    "execution": {
     "iopub.execute_input": "2022-04-20T07:13:15.912664Z",
     "iopub.status.busy": "2022-04-20T07:13:15.911891Z",
     "iopub.status.idle": "2022-04-20T07:13:16.181656Z",
     "shell.execute_reply": "2022-04-20T07:13:16.180770Z"
    },
    "papermill": {
     "duration": 0.332315,
     "end_time": "2022-04-20T07:13:16.183839",
     "exception": false,
     "start_time": "2022-04-20T07:13:15.851524",
     "status": "completed"
    },
    "tags": []
   },
   "outputs": [
    {
     "data": {
      "image/png": "[encoded data removed]",
      "text/plain": [
       "<Figure size 1152x360 with 1 Axes>"
      ]
     },
     "metadata": {
      "needs_background": "light"
     },
     "output_type": "display_data"
    }
   ],
   "source": [
    "#Checking TV Shows and movies added across the years\n",
    "type_year = (data.groupby(['type','year_added'])['title'].size()).reset_index()\n",
    "fig = plt.figure(figsize=(16,5))\n",
    "sns.lineplot(data = type_year,x = 'year_added',y = 'title',hue = 'type',style = 'type',palette='magma_r',markers=True, dashes=False)\n",
    "plt.title(\"Total content across the years\")\n",
    "plt.show()\n"
   ]
  },
  {
   "cell_type": "markdown",
   "id": "a39be2e8",
   "metadata": {
    "editable": false,
    "papermill": {
     "duration": 0.05874,
     "end_time": "2022-04-20T07:13:16.302395",
     "exception": false,
     "start_time": "2022-04-20T07:13:16.243655",
     "status": "completed"
    },
    "tags": []
   },
   "source": [
    "* Since 2016, the amount of content added has been increasing significantly. \n",
    "* The growth in the number of movies on Netflix is much higher than that of TV shows. "
   ]
  },
  {
   "cell_type": "code",
   "execution_count": 22,
   "id": "18d30a35",
   "metadata": {
    "editable": false,
    "execution": {
     "iopub.execute_input": "2022-04-20T07:13:16.421242Z",
     "iopub.status.busy": "2022-04-20T07:13:16.420939Z",
     "iopub.status.idle": "2022-04-20T07:13:16.429581Z",
     "shell.execute_reply": "2022-04-20T07:13:16.429006Z"
    },
    "papermill": {
     "duration": 0.070392,
     "end_time": "2022-04-20T07:13:16.431255",
     "exception": false,
     "start_time": "2022-04-20T07:13:16.360863",
     "status": "completed"
    },
    "tags": []
   },
   "outputs": [
    {
     "data": {
      "text/plain": [
       "United States     3638\n",
       "India              972\n",
       "United Kingdom     418\n",
       "Japan              243\n",
       "South Korea        199\n",
       "Canada             181\n",
       "Spain              145\n",
       "France             124\n",
       "Mexico             110\n",
       "Egypt              106\n",
       "Name: country, dtype: int64"
      ]
     },
     "execution_count": 22,
     "metadata": {},
     "output_type": "execute_result"
    }
   ],
   "source": [
    "#Top 10 Countries in which movies and TV shows were addded\n",
    "data['country'].value_counts()[:10]"
   ]
  },
  {
   "cell_type": "code",
   "execution_count": 23,
   "id": "ba042784",
   "metadata": {
    "editable": false,
    "execution": {
     "iopub.execute_input": "2022-04-20T07:13:16.551182Z",
     "iopub.status.busy": "2022-04-20T07:13:16.550863Z",
     "iopub.status.idle": "2022-04-20T07:13:16.852577Z",
     "shell.execute_reply": "2022-04-20T07:13:16.851963Z"
    },
    "papermill": {
     "duration": 0.363932,
     "end_time": "2022-04-20T07:13:16.854465",
     "exception": false,
     "start_time": "2022-04-20T07:13:16.490533",
     "status": "completed"
    },
    "tags": []
   },
   "outputs": [
    {
     "data": {
      "image/png": "[encoded data removed]",
      "text/plain": [
       "<Figure size 864x432 with 1 Axes>"
      ]
     },
     "metadata": {
      "needs_background": "light"
     },
     "output_type": "display_data"
    }
   ],
   "source": [
    "fig = plt.figure(figsize=(12,6))\n",
    "sns.countplot(data = data,y = 'country', order = data[\"country\"].value_counts().index[:10],hue = 'type',palette = 'magma_r')\n",
    "plt.title(\"Top countries having most content\")\n",
    "plt.show()"
   ]
  },
  {
   "cell_type": "code",
   "execution_count": 24,
   "id": "cbe66511",
   "metadata": {
    "editable": false,
    "execution": {
     "iopub.execute_input": "2022-04-20T07:13:16.977701Z",
     "iopub.status.busy": "2022-04-20T07:13:16.977201Z",
     "iopub.status.idle": "2022-04-20T07:13:16.987083Z",
     "shell.execute_reply": "2022-04-20T07:13:16.986513Z"
    },
    "papermill": {
     "duration": 0.07344,
     "end_time": "2022-04-20T07:13:16.988925",
     "exception": false,
     "start_time": "2022-04-20T07:13:16.915485",
     "status": "completed"
    },
    "tags": []
   },
   "outputs": [
    {
     "data": {
      "text/plain": [
       "No Data                           2621\n",
       "Rajiv Chilaka                       19\n",
       "Raúl Campos, Jan Suter              18\n",
       "Suhas Kadav                         16\n",
       "Marcus Raboy                        16\n",
       "                                  ... \n",
       "Raymie Muzquiz, Stu Livingston       1\n",
       "Joe Menendez                         1\n",
       "Eric Bross                           1\n",
       "Will Eisenberg                       1\n",
       "Mozez Singh                          1\n",
       "Name: director, Length: 4527, dtype: int64"
      ]
     },
     "execution_count": 24,
     "metadata": {},
     "output_type": "execute_result"
    }
   ],
   "source": [
    "data['director'].value_counts()"
   ]
  },
  {
   "cell_type": "code",
   "execution_count": 25,
   "id": "aa44c6fa",
   "metadata": {
    "editable": false,
    "execution": {
     "iopub.execute_input": "2022-04-20T07:13:17.112816Z",
     "iopub.status.busy": "2022-04-20T07:13:17.112326Z",
     "iopub.status.idle": "2022-04-20T07:13:17.145429Z",
     "shell.execute_reply": "2022-04-20T07:13:17.144553Z"
    },
    "papermill": {
     "duration": 0.097145,
     "end_time": "2022-04-20T07:13:17.147833",
     "exception": false,
     "start_time": "2022-04-20T07:13:17.050688",
     "status": "completed"
    },
    "tags": []
   },
   "outputs": [],
   "source": [
    "#Director as per no. of titles.\n",
    "director = data[data.director!='No Data'].set_index('title').director.str.split(\",\",expand=True).stack().reset_index(level=1,drop=True)"
   ]
  },
  {
   "cell_type": "code",
   "execution_count": 26,
   "id": "8aae437e",
   "metadata": {
    "editable": false,
    "execution": {
     "iopub.execute_input": "2022-04-20T07:13:17.271528Z",
     "iopub.status.busy": "2022-04-20T07:13:17.270843Z",
     "iopub.status.idle": "2022-04-20T07:13:17.278643Z",
     "shell.execute_reply": "2022-04-20T07:13:17.277830Z"
    },
    "papermill": {
     "duration": 0.071632,
     "end_time": "2022-04-20T07:13:17.280627",
     "exception": false,
     "start_time": "2022-04-20T07:13:17.208995",
     "status": "completed"
    },
    "tags": []
   },
   "outputs": [
    {
     "data": {
      "text/plain": [
       "title\n",
       "Dick Johnson Is Dead                Kirsten Johnson\n",
       "Ganglands                           Julien Leclercq\n",
       "Midnight Mass                         Mike Flanagan\n",
       "My Little Pony: A New Generation      Robert Cullen\n",
       "My Little Pony: A New Generation     José Luis Ucha\n",
       "                                         ...       \n",
       "Zinzana                             Majid Al Ansari\n",
       "Zodiac                                David Fincher\n",
       "Zombieland                          Ruben Fleischer\n",
       "Zoom                                   Peter Hewitt\n",
       "Zubaan                                  Mozez Singh\n",
       "Length: 6974, dtype: object"
      ]
     },
     "execution_count": 26,
     "metadata": {},
     "output_type": "execute_result"
    }
   ],
   "source": [
    "director"
   ]
  },
  {
   "cell_type": "code",
   "execution_count": 27,
   "id": "7a7858c0",
   "metadata": {
    "editable": false,
    "execution": {
     "iopub.execute_input": "2022-04-20T07:13:17.407196Z",
     "iopub.status.busy": "2022-04-20T07:13:17.406882Z",
     "iopub.status.idle": "2022-04-20T07:13:17.661667Z",
     "shell.execute_reply": "2022-04-20T07:13:17.660852Z"
    },
    "papermill": {
     "duration": 0.321994,
     "end_time": "2022-04-20T07:13:17.663688",
     "exception": false,
     "start_time": "2022-04-20T07:13:17.341694",
     "status": "completed"
    },
    "tags": []
   },
   "outputs": [
    {
     "data": {
      "image/png": "[encoded data removed]",
      "text/plain": [
       "<Figure size 936x504 with 1 Axes>"
      ]
     },
     "metadata": {
      "needs_background": "light"
     },
     "output_type": "display_data"
    }
   ],
   "source": [
    "plt.figure(figsize=(13,7))\n",
    "sns.countplot(y = director, order=director.value_counts().index[:10], palette='magma_r')\n",
    "plt.title('Top 10 Director Based on The Number of Titles')\n",
    "plt.show()\n"
   ]
  },
  {
   "cell_type": "code",
   "execution_count": 28,
   "id": "f4fe1f58",
   "metadata": {
    "execution": {
     "iopub.execute_input": "2022-04-20T07:13:17.789249Z",
     "iopub.status.busy": "2022-04-20T07:13:17.788718Z",
     "iopub.status.idle": "2022-04-20T07:13:17.800594Z",
     "shell.execute_reply": "2022-04-20T07:13:17.799797Z"
    },
    "papermill": {
     "duration": 0.076878,
     "end_time": "2022-04-20T07:13:17.802606",
     "exception": false,
     "start_time": "2022-04-20T07:13:17.725728",
     "status": "completed"
    },
    "tags": []
   },
   "outputs": [],
   "source": [
    "#df for TV shows and Movies\n",
    "tv_shows = data[data.type == 'TV Show'].copy()\n",
    "movie = data[data.type == 'Movie'].copy()"
   ]
  },
  {
   "cell_type": "code",
   "execution_count": 29,
   "id": "f7088e6c",
   "metadata": {
    "execution": {
     "iopub.execute_input": "2022-04-20T07:13:17.928566Z",
     "iopub.status.busy": "2022-04-20T07:13:17.928279Z",
     "iopub.status.idle": "2022-04-20T07:13:17.959132Z",
     "shell.execute_reply": "2022-04-20T07:13:17.958217Z"
    },
    "papermill": {
     "duration": 0.096963,
     "end_time": "2022-04-20T07:13:17.961512",
     "exception": false,
     "start_time": "2022-04-20T07:13:17.864549",
     "status": "completed"
    },
    "tags": []
   },
   "outputs": [],
   "source": [
    "#Cast as per TV Shows\n",
    "cast = tv_shows[tv_shows.cast!='No Data'].set_index('title').cast.str.split(\",\",expand=True).stack().reset_index(level=1,drop=True)"
   ]
  },
  {
   "cell_type": "code",
   "execution_count": 30,
   "id": "166c9e72",
   "metadata": {
    "editable": false,
    "execution": {
     "iopub.execute_input": "2022-04-20T07:13:18.090187Z",
     "iopub.status.busy": "2022-04-20T07:13:18.089621Z",
     "iopub.status.idle": "2022-04-20T07:13:18.389780Z",
     "shell.execute_reply": "2022-04-20T07:13:18.388863Z"
    },
    "papermill": {
     "duration": 0.367219,
     "end_time": "2022-04-20T07:13:18.391912",
     "exception": false,
     "start_time": "2022-04-20T07:13:18.024693",
     "status": "completed"
    },
    "tags": []
   },
   "outputs": [
    {
     "data": {
      "image/png": "[encoded data removed]",
      "text/plain": [
       "<Figure size 936x504 with 1 Axes>"
      ]
     },
     "metadata": {
      "needs_background": "light"
     },
     "output_type": "display_data"
    }
   ],
   "source": [
    "plt.figure(figsize=(13,7))\n",
    "sns.countplot(y = cast, order=cast.value_counts().index[:10], palette='magma_r')\n",
    "plt.title('Top 10 Cast of TV Shows Based on The Number of Titles')\n",
    "plt.show()"
   ]
  },
  {
   "cell_type": "markdown",
   "id": "8d47eccc",
   "metadata": {
    "editable": false,
    "papermill": {
     "duration": 0.063455,
     "end_time": "2022-04-20T07:13:18.522432",
     "exception": false,
     "start_time": "2022-04-20T07:13:18.458977",
     "status": "completed"
    },
    "tags": []
   },
   "source": [
    "* The top actor on Netflix TV Show, based on the number of titles, is Takahiro Sakurai."
   ]
  },
  {
   "cell_type": "code",
   "execution_count": 31,
   "id": "45f30d97",
   "metadata": {
    "execution": {
     "iopub.execute_input": "2022-04-20T07:13:18.651242Z",
     "iopub.status.busy": "2022-04-20T07:13:18.650938Z",
     "iopub.status.idle": "2022-04-20T07:13:18.707512Z",
     "shell.execute_reply": "2022-04-20T07:13:18.706632Z"
    },
    "papermill": {
     "duration": 0.124213,
     "end_time": "2022-04-20T07:13:18.709765",
     "exception": false,
     "start_time": "2022-04-20T07:13:18.585552",
     "status": "completed"
    },
    "tags": []
   },
   "outputs": [],
   "source": [
    "#Cast as per Movies\n",
    "cast_m = movie[movie.cast!='No Data'].set_index('title').cast.str.split(\",\",expand=True).stack().reset_index(level=1,drop=True)"
   ]
  },
  {
   "cell_type": "code",
   "execution_count": 32,
   "id": "cfaf4e43",
   "metadata": {
    "editable": false,
    "execution": {
     "iopub.execute_input": "2022-04-20T07:13:18.837912Z",
     "iopub.status.busy": "2022-04-20T07:13:18.837595Z",
     "iopub.status.idle": "2022-04-20T07:13:19.227896Z",
     "shell.execute_reply": "2022-04-20T07:13:19.227091Z"
    },
    "papermill": {
     "duration": 0.456641,
     "end_time": "2022-04-20T07:13:19.229865",
     "exception": false,
     "start_time": "2022-04-20T07:13:18.773224",
     "status": "completed"
    },
    "tags": []
   },
   "outputs": [
    {
     "data": {
      "image/png": "[encoded data removed]",
      "text/plain": [
       "<Figure size 936x504 with 1 Axes>"
      ]
     },
     "metadata": {
      "needs_background": "light"
     },
     "output_type": "display_data"
    }
   ],
   "source": [
    "plt.figure(figsize=(13,7))\n",
    "sns.countplot(y = cast_m, order=cast_m.value_counts().index[:10], palette='magma_r')\n",
    "plt.title('Top 10 Movie Actors Based on The Number of Titles')\n",
    "plt.show()"
   ]
  },
  {
   "cell_type": "markdown",
   "id": "88725de4",
   "metadata": {
    "editable": false,
    "papermill": {
     "duration": 0.06559,
     "end_time": "2022-04-20T07:13:19.359814",
     "exception": false,
     "start_time": "2022-04-20T07:13:19.294224",
     "status": "completed"
    },
    "tags": []
   },
   "source": [
    "* The top actor on Netflix Movies, based on the number of titles, is Anupam Kher. Also maximum actors are from India"
   ]
  },
  {
   "cell_type": "code",
   "execution_count": 33,
   "id": "801eba03",
   "metadata": {
    "execution": {
     "iopub.execute_input": "2022-04-20T07:13:19.489894Z",
     "iopub.status.busy": "2022-04-20T07:13:19.489603Z",
     "iopub.status.idle": "2022-04-20T07:13:19.508649Z",
     "shell.execute_reply": "2022-04-20T07:13:19.507831Z"
    },
    "papermill": {
     "duration": 0.086282,
     "end_time": "2022-04-20T07:13:19.510632",
     "exception": false,
     "start_time": "2022-04-20T07:13:19.424350",
     "status": "completed"
    },
    "tags": []
   },
   "outputs": [
    {
     "data": {
      "text/html": [
       "<div>\n",
       "<style scoped>\n",
       "    .dataframe tbody tr th:only-of-type {\n",
       "        vertical-align: middle;\n",
       "    }\n",
       "\n",
       "    .dataframe tbody tr th {\n",
       "        vertical-align: top;\n",
       "    }\n",
       "\n",
       "    .dataframe thead th {\n",
       "        text-align: right;\n",
       "    }\n",
       "</style>\n",
       "<table border=\"1\" class=\"dataframe\">\n",
       "  <thead>\n",
       "    <tr style=\"text-align: right;\">\n",
       "      <th></th>\n",
       "      <th>show_id</th>\n",
       "      <th>type</th>\n",
       "      <th>title</th>\n",
       "      <th>director</th>\n",
       "      <th>cast</th>\n",
       "      <th>country</th>\n",
       "      <th>date_added</th>\n",
       "      <th>release_year</th>\n",
       "      <th>rating</th>\n",
       "      <th>duration</th>\n",
       "      <th>listed_in</th>\n",
       "      <th>description</th>\n",
       "      <th>month_added</th>\n",
       "      <th>month_name_added</th>\n",
       "      <th>year_added</th>\n",
       "    </tr>\n",
       "  </thead>\n",
       "  <tbody>\n",
       "    <tr>\n",
       "      <th>0</th>\n",
       "      <td>s1</td>\n",
       "      <td>Movie</td>\n",
       "      <td>Dick Johnson Is Dead</td>\n",
       "      <td>Kirsten Johnson</td>\n",
       "      <td>No Data</td>\n",
       "      <td>United States</td>\n",
       "      <td>2021-09-25</td>\n",
       "      <td>2020</td>\n",
       "      <td>PG-13</td>\n",
       "      <td>90 min</td>\n",
       "      <td>Documentaries</td>\n",
       "      <td>As her father nears the end of his life, filmm...</td>\n",
       "      <td>9</td>\n",
       "      <td>September</td>\n",
       "      <td>2021</td>\n",
       "    </tr>\n",
       "    <tr>\n",
       "      <th>6</th>\n",
       "      <td>s7</td>\n",
       "      <td>Movie</td>\n",
       "      <td>My Little Pony: A New Generation</td>\n",
       "      <td>Robert Cullen, José Luis Ucha</td>\n",
       "      <td>Vanessa Hudgens, Kimiko Glenn, James Marsden, ...</td>\n",
       "      <td>United States</td>\n",
       "      <td>2021-09-24</td>\n",
       "      <td>2021</td>\n",
       "      <td>PG</td>\n",
       "      <td>91 min</td>\n",
       "      <td>Children &amp; Family Movies</td>\n",
       "      <td>Equestria's divided. But a bright-eyed hero be...</td>\n",
       "      <td>9</td>\n",
       "      <td>September</td>\n",
       "      <td>2021</td>\n",
       "    </tr>\n",
       "    <tr>\n",
       "      <th>7</th>\n",
       "      <td>s8</td>\n",
       "      <td>Movie</td>\n",
       "      <td>Sankofa</td>\n",
       "      <td>Haile Gerima</td>\n",
       "      <td>Kofi Ghanaba, Oyafunmike Ogunlano, Alexandra D...</td>\n",
       "      <td>United States, Ghana, Burkina Faso, United Kin...</td>\n",
       "      <td>2021-09-24</td>\n",
       "      <td>1993</td>\n",
       "      <td>TV-MA</td>\n",
       "      <td>125 min</td>\n",
       "      <td>Dramas, Independent Movies, International Movies</td>\n",
       "      <td>On a photo shoot in Ghana, an American model s...</td>\n",
       "      <td>9</td>\n",
       "      <td>September</td>\n",
       "      <td>2021</td>\n",
       "    </tr>\n",
       "    <tr>\n",
       "      <th>9</th>\n",
       "      <td>s10</td>\n",
       "      <td>Movie</td>\n",
       "      <td>The Starling</td>\n",
       "      <td>Theodore Melfi</td>\n",
       "      <td>Melissa McCarthy, Chris O'Dowd, Kevin Kline, T...</td>\n",
       "      <td>United States</td>\n",
       "      <td>2021-09-24</td>\n",
       "      <td>2021</td>\n",
       "      <td>PG-13</td>\n",
       "      <td>104 min</td>\n",
       "      <td>Comedies, Dramas</td>\n",
       "      <td>A woman adjusting to life after a loss contend...</td>\n",
       "      <td>9</td>\n",
       "      <td>September</td>\n",
       "      <td>2021</td>\n",
       "    </tr>\n",
       "    <tr>\n",
       "      <th>12</th>\n",
       "      <td>s13</td>\n",
       "      <td>Movie</td>\n",
       "      <td>Je Suis Karl</td>\n",
       "      <td>Christian Schwochow</td>\n",
       "      <td>Luna Wedler, Jannis Niewöhner, Milan Peschel, ...</td>\n",
       "      <td>Germany, Czech Republic</td>\n",
       "      <td>2021-09-23</td>\n",
       "      <td>2021</td>\n",
       "      <td>TV-MA</td>\n",
       "      <td>127 min</td>\n",
       "      <td>Dramas, International Movies</td>\n",
       "      <td>After most of her family is murdered in a terr...</td>\n",
       "      <td>9</td>\n",
       "      <td>September</td>\n",
       "      <td>2021</td>\n",
       "    </tr>\n",
       "  </tbody>\n",
       "</table>\n",
       "</div>"
      ],
      "text/plain": [
       "   show_id   type                             title  \\\n",
       "0       s1  Movie              Dick Johnson Is Dead   \n",
       "6       s7  Movie  My Little Pony: A New Generation   \n",
       "7       s8  Movie                           Sankofa   \n",
       "9      s10  Movie                      The Starling   \n",
       "12     s13  Movie                      Je Suis Karl   \n",
       "\n",
       "                         director  \\\n",
       "0                 Kirsten Johnson   \n",
       "6   Robert Cullen, José Luis Ucha   \n",
       "7                    Haile Gerima   \n",
       "9                  Theodore Melfi   \n",
       "12            Christian Schwochow   \n",
       "\n",
       "                                                 cast  \\\n",
       "0                                             No Data   \n",
       "6   Vanessa Hudgens, Kimiko Glenn, James Marsden, ...   \n",
       "7   Kofi Ghanaba, Oyafunmike Ogunlano, Alexandra D...   \n",
       "9   Melissa McCarthy, Chris O'Dowd, Kevin Kline, T...   \n",
       "12  Luna Wedler, Jannis Niewöhner, Milan Peschel, ...   \n",
       "\n",
       "                                              country date_added  \\\n",
       "0                                       United States 2021-09-25   \n",
       "6                                       United States 2021-09-24   \n",
       "7   United States, Ghana, Burkina Faso, United Kin... 2021-09-24   \n",
       "9                                       United States 2021-09-24   \n",
       "12                            Germany, Czech Republic 2021-09-23   \n",
       "\n",
       "    release_year rating duration  \\\n",
       "0           2020  PG-13   90 min   \n",
       "6           2021     PG   91 min   \n",
       "7           1993  TV-MA  125 min   \n",
       "9           2021  PG-13  104 min   \n",
       "12          2021  TV-MA  127 min   \n",
       "\n",
       "                                           listed_in  \\\n",
       "0                                      Documentaries   \n",
       "6                           Children & Family Movies   \n",
       "7   Dramas, Independent Movies, International Movies   \n",
       "9                                   Comedies, Dramas   \n",
       "12                      Dramas, International Movies   \n",
       "\n",
       "                                          description  month_added  \\\n",
       "0   As her father nears the end of his life, filmm...            9   \n",
       "6   Equestria's divided. But a bright-eyed hero be...            9   \n",
       "7   On a photo shoot in Ghana, an American model s...            9   \n",
       "9   A woman adjusting to life after a loss contend...            9   \n",
       "12  After most of her family is murdered in a terr...            9   \n",
       "\n",
       "   month_name_added  year_added  \n",
       "0         September        2021  \n",
       "6         September        2021  \n",
       "7         September        2021  \n",
       "9         September        2021  \n",
       "12        September        2021  "
      ]
     },
     "execution_count": 33,
     "metadata": {},
     "output_type": "execute_result"
    }
   ],
   "source": [
    "#Check Duration of movies\n",
    "movie.head()"
   ]
  },
  {
   "cell_type": "code",
   "execution_count": 34,
   "id": "32d53792",
   "metadata": {
    "execution": {
     "iopub.execute_input": "2022-04-20T07:13:19.643185Z",
     "iopub.status.busy": "2022-04-20T07:13:19.642678Z",
     "iopub.status.idle": "2022-04-20T07:13:19.656660Z",
     "shell.execute_reply": "2022-04-20T07:13:19.655491Z"
    },
    "papermill": {
     "duration": 0.08321,
     "end_time": "2022-04-20T07:13:19.658958",
     "exception": false,
     "start_time": "2022-04-20T07:13:19.575748",
     "status": "completed"
    },
    "tags": []
   },
   "outputs": [],
   "source": [
    "movie['duration'] = movie['duration'].str.replace(' min','').astype(int)"
   ]
  },
  {
   "cell_type": "code",
   "execution_count": 35,
   "id": "b03c4800",
   "metadata": {
    "execution": {
     "iopub.execute_input": "2022-04-20T07:13:19.791851Z",
     "iopub.status.busy": "2022-04-20T07:13:19.791344Z",
     "iopub.status.idle": "2022-04-20T07:13:20.396891Z",
     "shell.execute_reply": "2022-04-20T07:13:20.395999Z"
    },
    "papermill": {
     "duration": 0.674967,
     "end_time": "2022-04-20T07:13:20.399144",
     "exception": false,
     "start_time": "2022-04-20T07:13:19.724177",
     "status": "completed"
    },
    "tags": []
   },
   "outputs": [
    {
     "data": {
      "text/plain": [
       "<seaborn.axisgrid.FacetGrid at 0x7f3a4b522910>"
      ]
     },
     "execution_count": 35,
     "metadata": {},
     "output_type": "execute_result"
    },
    {
     "data": {
      "image/png": "[encoded data removed]",
      "text/plain": [
       "<Figure size 360x360 with 1 Axes>"
      ]
     },
     "metadata": {
      "needs_background": "light"
     },
     "output_type": "display_data"
    }
   ],
   "source": [
    "sns.displot(data=movie,x='duration',bins=100)"
   ]
  },
  {
   "cell_type": "code",
   "execution_count": 36,
   "id": "9bfd1fa4",
   "metadata": {
    "execution": {
     "iopub.execute_input": "2022-04-20T07:13:20.536855Z",
     "iopub.status.busy": "2022-04-20T07:13:20.536544Z",
     "iopub.status.idle": "2022-04-20T07:13:20.686075Z",
     "shell.execute_reply": "2022-04-20T07:13:20.685126Z"
    },
    "papermill": {
     "duration": 0.221472,
     "end_time": "2022-04-20T07:13:20.689869",
     "exception": false,
     "start_time": "2022-04-20T07:13:20.468397",
     "status": "completed"
    },
    "tags": []
   },
   "outputs": [
    {
     "name": "stderr",
     "output_type": "stream",
     "text": [
      "/opt/conda/lib/python3.7/site-packages/seaborn/_decorators.py:43: FutureWarning: Pass the following variable as a keyword arg: x. From version 0.12, the only valid positional argument will be `data`, and passing other arguments without an explicit keyword will result in an error or misinterpretation.\n",
      "  FutureWarning\n"
     ]
    },
    {
     "data": {
      "image/png": "[encoded data removed]",
      "text/plain": [
       "<Figure size 432x288 with 1 Axes>"
      ]
     },
     "metadata": {
      "needs_background": "light"
     },
     "output_type": "display_data"
    }
   ],
   "source": [
    "sns.boxplot(movie['duration'])\n",
    "plt.show()"
   ]
  },
  {
   "cell_type": "markdown",
   "id": "d5a0dfc2",
   "metadata": {
    "papermill": {
     "duration": 0.067317,
     "end_time": "2022-04-20T07:13:20.825439",
     "exception": false,
     "start_time": "2022-04-20T07:13:20.758122",
     "status": "completed"
    },
    "tags": []
   },
   "source": [
    "* The average movie time is 100 mins\n",
    "* We can see that there are several movies which are less than 50 mins so we can consider them outlier"
   ]
  },
  {
   "cell_type": "code",
   "execution_count": 37,
   "id": "7c36cd79",
   "metadata": {
    "execution": {
     "iopub.execute_input": "2022-04-20T07:13:20.964159Z",
     "iopub.status.busy": "2022-04-20T07:13:20.963361Z",
     "iopub.status.idle": "2022-04-20T07:13:20.980900Z",
     "shell.execute_reply": "2022-04-20T07:13:20.980182Z"
    },
    "papermill": {
     "duration": 0.090148,
     "end_time": "2022-04-20T07:13:20.982737",
     "exception": false,
     "start_time": "2022-04-20T07:13:20.892589",
     "status": "completed"
    },
    "tags": []
   },
   "outputs": [
    {
     "data": {
      "text/html": [
       "<div>\n",
       "<style scoped>\n",
       "    .dataframe tbody tr th:only-of-type {\n",
       "        vertical-align: middle;\n",
       "    }\n",
       "\n",
       "    .dataframe tbody tr th {\n",
       "        vertical-align: top;\n",
       "    }\n",
       "\n",
       "    .dataframe thead th {\n",
       "        text-align: right;\n",
       "    }\n",
       "</style>\n",
       "<table border=\"1\" class=\"dataframe\">\n",
       "  <thead>\n",
       "    <tr style=\"text-align: right;\">\n",
       "      <th></th>\n",
       "      <th>show_id</th>\n",
       "      <th>type</th>\n",
       "      <th>title</th>\n",
       "      <th>director</th>\n",
       "      <th>cast</th>\n",
       "      <th>country</th>\n",
       "      <th>date_added</th>\n",
       "      <th>release_year</th>\n",
       "      <th>rating</th>\n",
       "      <th>duration</th>\n",
       "      <th>listed_in</th>\n",
       "      <th>description</th>\n",
       "      <th>month_added</th>\n",
       "      <th>month_name_added</th>\n",
       "      <th>year_added</th>\n",
       "    </tr>\n",
       "  </thead>\n",
       "  <tbody>\n",
       "    <tr>\n",
       "      <th>1</th>\n",
       "      <td>s2</td>\n",
       "      <td>TV Show</td>\n",
       "      <td>Blood &amp; Water</td>\n",
       "      <td>No Data</td>\n",
       "      <td>Ama Qamata, Khosi Ngema, Gail Mabalane, Thaban...</td>\n",
       "      <td>South Africa</td>\n",
       "      <td>2021-09-24</td>\n",
       "      <td>2021</td>\n",
       "      <td>TV-MA</td>\n",
       "      <td>2 Seasons</td>\n",
       "      <td>International TV Shows, TV Dramas, TV Mysteries</td>\n",
       "      <td>After crossing paths at a party, a Cape Town t...</td>\n",
       "      <td>9</td>\n",
       "      <td>September</td>\n",
       "      <td>2021</td>\n",
       "    </tr>\n",
       "    <tr>\n",
       "      <th>2</th>\n",
       "      <td>s3</td>\n",
       "      <td>TV Show</td>\n",
       "      <td>Ganglands</td>\n",
       "      <td>Julien Leclercq</td>\n",
       "      <td>Sami Bouajila, Tracy Gotoas, Samuel Jouy, Nabi...</td>\n",
       "      <td>United States</td>\n",
       "      <td>2021-09-24</td>\n",
       "      <td>2021</td>\n",
       "      <td>TV-MA</td>\n",
       "      <td>1 Season</td>\n",
       "      <td>Crime TV Shows, International TV Shows, TV Act...</td>\n",
       "      <td>To protect his family from a powerful drug lor...</td>\n",
       "      <td>9</td>\n",
       "      <td>September</td>\n",
       "      <td>2021</td>\n",
       "    </tr>\n",
       "    <tr>\n",
       "      <th>3</th>\n",
       "      <td>s4</td>\n",
       "      <td>TV Show</td>\n",
       "      <td>Jailbirds New Orleans</td>\n",
       "      <td>No Data</td>\n",
       "      <td>No Data</td>\n",
       "      <td>United States</td>\n",
       "      <td>2021-09-24</td>\n",
       "      <td>2021</td>\n",
       "      <td>TV-MA</td>\n",
       "      <td>1 Season</td>\n",
       "      <td>Docuseries, Reality TV</td>\n",
       "      <td>Feuds, flirtations and toilet talk go down amo...</td>\n",
       "      <td>9</td>\n",
       "      <td>September</td>\n",
       "      <td>2021</td>\n",
       "    </tr>\n",
       "    <tr>\n",
       "      <th>4</th>\n",
       "      <td>s5</td>\n",
       "      <td>TV Show</td>\n",
       "      <td>Kota Factory</td>\n",
       "      <td>No Data</td>\n",
       "      <td>Mayur More, Jitendra Kumar, Ranjan Raj, Alam K...</td>\n",
       "      <td>India</td>\n",
       "      <td>2021-09-24</td>\n",
       "      <td>2021</td>\n",
       "      <td>TV-MA</td>\n",
       "      <td>2 Seasons</td>\n",
       "      <td>International TV Shows, Romantic TV Shows, TV ...</td>\n",
       "      <td>In a city of coaching centers known to train I...</td>\n",
       "      <td>9</td>\n",
       "      <td>September</td>\n",
       "      <td>2021</td>\n",
       "    </tr>\n",
       "    <tr>\n",
       "      <th>5</th>\n",
       "      <td>s6</td>\n",
       "      <td>TV Show</td>\n",
       "      <td>Midnight Mass</td>\n",
       "      <td>Mike Flanagan</td>\n",
       "      <td>Kate Siegel, Zach Gilford, Hamish Linklater, H...</td>\n",
       "      <td>United States</td>\n",
       "      <td>2021-09-24</td>\n",
       "      <td>2021</td>\n",
       "      <td>TV-MA</td>\n",
       "      <td>1 Season</td>\n",
       "      <td>TV Dramas, TV Horror, TV Mysteries</td>\n",
       "      <td>The arrival of a charismatic young priest brin...</td>\n",
       "      <td>9</td>\n",
       "      <td>September</td>\n",
       "      <td>2021</td>\n",
       "    </tr>\n",
       "  </tbody>\n",
       "</table>\n",
       "</div>"
      ],
      "text/plain": [
       "  show_id     type                  title         director  \\\n",
       "1      s2  TV Show          Blood & Water          No Data   \n",
       "2      s3  TV Show              Ganglands  Julien Leclercq   \n",
       "3      s4  TV Show  Jailbirds New Orleans          No Data   \n",
       "4      s5  TV Show           Kota Factory          No Data   \n",
       "5      s6  TV Show          Midnight Mass    Mike Flanagan   \n",
       "\n",
       "                                                cast        country  \\\n",
       "1  Ama Qamata, Khosi Ngema, Gail Mabalane, Thaban...   South Africa   \n",
       "2  Sami Bouajila, Tracy Gotoas, Samuel Jouy, Nabi...  United States   \n",
       "3                                            No Data  United States   \n",
       "4  Mayur More, Jitendra Kumar, Ranjan Raj, Alam K...          India   \n",
       "5  Kate Siegel, Zach Gilford, Hamish Linklater, H...  United States   \n",
       "\n",
       "  date_added  release_year rating   duration  \\\n",
       "1 2021-09-24          2021  TV-MA  2 Seasons   \n",
       "2 2021-09-24          2021  TV-MA   1 Season   \n",
       "3 2021-09-24          2021  TV-MA   1 Season   \n",
       "4 2021-09-24          2021  TV-MA  2 Seasons   \n",
       "5 2021-09-24          2021  TV-MA   1 Season   \n",
       "\n",
       "                                           listed_in  \\\n",
       "1    International TV Shows, TV Dramas, TV Mysteries   \n",
       "2  Crime TV Shows, International TV Shows, TV Act...   \n",
       "3                             Docuseries, Reality TV   \n",
       "4  International TV Shows, Romantic TV Shows, TV ...   \n",
       "5                 TV Dramas, TV Horror, TV Mysteries   \n",
       "\n",
       "                                         description  month_added  \\\n",
       "1  After crossing paths at a party, a Cape Town t...            9   \n",
       "2  To protect his family from a powerful drug lor...            9   \n",
       "3  Feuds, flirtations and toilet talk go down amo...            9   \n",
       "4  In a city of coaching centers known to train I...            9   \n",
       "5  The arrival of a charismatic young priest brin...            9   \n",
       "\n",
       "  month_name_added  year_added  \n",
       "1        September        2021  \n",
       "2        September        2021  \n",
       "3        September        2021  \n",
       "4        September        2021  \n",
       "5        September        2021  "
      ]
     },
     "execution_count": 37,
     "metadata": {},
     "output_type": "execute_result"
    }
   ],
   "source": [
    "tv_shows.head()"
   ]
  },
  {
   "cell_type": "code",
   "execution_count": 38,
   "id": "0283c5f2",
   "metadata": {
    "execution": {
     "iopub.execute_input": "2022-04-20T07:13:21.120395Z",
     "iopub.status.busy": "2022-04-20T07:13:21.119882Z",
     "iopub.status.idle": "2022-04-20T07:13:21.129142Z",
     "shell.execute_reply": "2022-04-20T07:13:21.128484Z"
    },
    "papermill": {
     "duration": 0.080607,
     "end_time": "2022-04-20T07:13:21.131413",
     "exception": false,
     "start_time": "2022-04-20T07:13:21.050806",
     "status": "completed"
    },
    "tags": []
   },
   "outputs": [],
   "source": [
    "#Removing 'Seasons' word from duration to get only no. of seasons\n",
    "tv_shows['duration']=tv_shows['duration'].str.split(' ').str[0]"
   ]
  },
  {
   "cell_type": "code",
   "execution_count": 39,
   "id": "bc090380",
   "metadata": {
    "execution": {
     "iopub.execute_input": "2022-04-20T07:13:21.269132Z",
     "iopub.status.busy": "2022-04-20T07:13:21.268835Z",
     "iopub.status.idle": "2022-04-20T07:13:21.273663Z",
     "shell.execute_reply": "2022-04-20T07:13:21.272848Z"
    },
    "papermill": {
     "duration": 0.076001,
     "end_time": "2022-04-20T07:13:21.275635",
     "exception": false,
     "start_time": "2022-04-20T07:13:21.199634",
     "status": "completed"
    },
    "tags": []
   },
   "outputs": [],
   "source": [
    "# Changing duration column name to season\n",
    "tv_shows.rename(columns = {'duration':'season'}, inplace = True)"
   ]
  },
  {
   "cell_type": "code",
   "execution_count": 40,
   "id": "915db4f8",
   "metadata": {
    "execution": {
     "iopub.execute_input": "2022-04-20T07:13:21.415698Z",
     "iopub.status.busy": "2022-04-20T07:13:21.415412Z",
     "iopub.status.idle": "2022-04-20T07:13:21.656608Z",
     "shell.execute_reply": "2022-04-20T07:13:21.655752Z"
    },
    "papermill": {
     "duration": 0.315016,
     "end_time": "2022-04-20T07:13:21.658817",
     "exception": false,
     "start_time": "2022-04-20T07:13:21.343801",
     "status": "completed"
    },
    "tags": []
   },
   "outputs": [
    {
     "data": {
      "text/plain": [
       "<AxesSubplot:>"
      ]
     },
     "execution_count": 40,
     "metadata": {},
     "output_type": "execute_result"
    },
    {
     "data": {
      "image/png": "[encoded data removed]",
      "text/plain": [
       "<Figure size 432x288 with 1 Axes>"
      ]
     },
     "metadata": {
      "needs_background": "light"
     },
     "output_type": "display_data"
    }
   ],
   "source": [
    "tv_shows['season'].value_counts().plot(kind='bar')"
   ]
  },
  {
   "cell_type": "code",
   "execution_count": 41,
   "id": "6cb4ee89",
   "metadata": {
    "execution": {
     "iopub.execute_input": "2022-04-20T07:13:21.798411Z",
     "iopub.status.busy": "2022-04-20T07:13:21.797680Z",
     "iopub.status.idle": "2022-04-20T07:13:21.805629Z",
     "shell.execute_reply": "2022-04-20T07:13:21.805045Z"
    },
    "papermill": {
     "duration": 0.07966,
     "end_time": "2022-04-20T07:13:21.807526",
     "exception": false,
     "start_time": "2022-04-20T07:13:21.727866",
     "status": "completed"
    },
    "tags": []
   },
   "outputs": [
    {
     "data": {
      "text/plain": [
       "count     2664\n",
       "unique      15\n",
       "top          1\n",
       "freq      1791\n",
       "Name: season, dtype: object"
      ]
     },
     "execution_count": 41,
     "metadata": {},
     "output_type": "execute_result"
    }
   ],
   "source": [
    "tv_shows['season'].describe()"
   ]
  },
  {
   "cell_type": "markdown",
   "id": "7ce08113",
   "metadata": {
    "papermill": {
     "duration": 0.069665,
     "end_time": "2022-04-20T07:13:21.946364",
     "exception": false,
     "start_time": "2022-04-20T07:13:21.876699",
     "status": "completed"
    },
    "tags": []
   },
   "source": [
    "* There are total 2664 TV Shows\n",
    "* ~1800 TV Shows have only one season"
   ]
  },
  {
   "cell_type": "code",
   "execution_count": 42,
   "id": "878e3663",
   "metadata": {
    "execution": {
     "iopub.execute_input": "2022-04-20T07:13:22.086817Z",
     "iopub.status.busy": "2022-04-20T07:13:22.086349Z",
     "iopub.status.idle": "2022-04-20T07:13:22.114521Z",
     "shell.execute_reply": "2022-04-20T07:13:22.113618Z"
    },
    "papermill": {
     "duration": 0.101224,
     "end_time": "2022-04-20T07:13:22.116931",
     "exception": false,
     "start_time": "2022-04-20T07:13:22.015707",
     "status": "completed"
    },
    "tags": []
   },
   "outputs": [],
   "source": [
    "#Analysing genre of content\n",
    "genre = data.set_index('title').listed_in.str.split(\",\",expand=True).stack().reset_index(level=1,drop=True)"
   ]
  },
  {
   "cell_type": "code",
   "execution_count": 43,
   "id": "a20dbfa1",
   "metadata": {
    "execution": {
     "iopub.execute_input": "2022-04-20T07:13:22.266182Z",
     "iopub.status.busy": "2022-04-20T07:13:22.265662Z",
     "iopub.status.idle": "2022-04-20T07:13:22.525642Z",
     "shell.execute_reply": "2022-04-20T07:13:22.525060Z"
    },
    "papermill": {
     "duration": 0.338826,
     "end_time": "2022-04-20T07:13:22.527706",
     "exception": false,
     "start_time": "2022-04-20T07:13:22.188880",
     "status": "completed"
    },
    "tags": []
   },
   "outputs": [
    {
     "data": {
      "image/png": "[encoded data removed]",
      "text/plain": [
       "<Figure size 864x432 with 1 Axes>"
      ]
     },
     "metadata": {
      "needs_background": "light"
     },
     "output_type": "display_data"
    }
   ],
   "source": [
    "plt.figure(figsize=(12,6))\n",
    "sns.countplot(y = genre, order=genre.value_counts().index[:20])\n",
    "plt.show()"
   ]
  },
  {
   "cell_type": "markdown",
   "id": "9dc1da91",
   "metadata": {
    "papermill": {
     "duration": 0.070463,
     "end_time": "2022-04-20T07:13:22.668785",
     "exception": false,
     "start_time": "2022-04-20T07:13:22.598322",
     "status": "completed"
    },
    "tags": []
   },
   "source": [
    "* International Movies take the first place, followed by dramas and comedies."
   ]
  }
 ],
 "metadata": {
  "kernelspec": {
   "display_name": "Python 3",
   "language": "python",
   "name": "python3"
  },
  "language_info": {
   "codemirror_mode": {
    "name": "ipython",
    "version": 3
   },
   "file_extension": ".py",
   "mimetype": "text/x-python",
   "name": "python",
   "nbconvert_exporter": "python",
   "pygments_lexer": "ipython3",
   "version": "3.7.12"
  },
  "papermill": {
   "default_parameters": {},
   "duration": 22.446859,
   "end_time": "2022-04-20T07:13:23.460307",
   "environment_variables": {},
   "exception": null,
   "input_path": "__notebook__.ipynb",
   "output_path": "__notebook__.ipynb",
   "parameters": {},
   "start_time": "2022-04-20T07:13:01.013448",
   "version": "2.3.4"
  }
 },
 "nbformat": 4,
 "nbformat_minor": 5
}
